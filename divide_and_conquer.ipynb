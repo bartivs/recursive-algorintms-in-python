{
 "metadata": {
  "language_info": {
   "codemirror_mode": {
    "name": "ipython",
    "version": 3
   },
   "file_extension": ".py",
   "mimetype": "text/x-python",
   "name": "python",
   "nbconvert_exporter": "python",
   "pygments_lexer": "ipython3",
   "version": "3.9.5"
  },
  "orig_nbformat": 2,
  "kernelspec": {
   "name": "python3",
   "display_name": "Python 3.9.5 64-bit"
  },
  "interpreter": {
   "hash": "4e1d9a8909477db77738c33245c29c7265277ef753467dede8cf3f814cde494e"
  }
 },
 "nbformat": 4,
 "nbformat_minor": 2,
 "cells": [
  {
   "source": [
    "# Karatsuba’s integer multiplication"
   ],
   "cell_type": "markdown",
   "metadata": {}
  },
  {
   "source": [
    "#Challenge: \n",
    "##      3141592653589793238462643383279502884197169399375105820974944592 \n",
    "## X    2718281828459045235360287471352662497757247093699959574966967627\n",
    "##      _________________________________________________________________\n",
    "##  "
   ],
   "cell_type": "markdown",
   "metadata": {}
  },
  {
   "cell_type": "code",
   "execution_count": 50,
   "metadata": {},
   "outputs": [],
   "source": [
    "import math\n",
    "import time "
   ]
  },
  {
   "cell_type": "code",
   "execution_count": null,
   "metadata": {},
   "outputs": [],
   "source": [
    "print(\"The system max computable number is: \",sys.maxsize)"
   ]
  },
  {
   "source": [
    "a=3141592653589793238462643383279502884197169399375105820974944592\n",
    "b=2718281828459045235360287471352662497757247093699959574966967627"
   ],
   "cell_type": "code",
   "metadata": {},
   "execution_count": null,
   "outputs": []
  },
  {
   "cell_type": "code",
   "execution_count": null,
   "metadata": {},
   "outputs": [],
   "source": [
    "str_a=str(a)\n",
    "print(2%2)"
   ]
  },
  {
   "cell_type": "code",
   "execution_count": null,
   "metadata": {},
   "outputs": [],
   "source": [
    "def split_number(num):\n",
    "    #Recibes a number\n",
    "    # returns a tutle (lower_half,upper_half)\n",
    "    str_num=str(num)\n",
    "    length_num=len(str_num)\n",
    "    if length_num < 2: \n",
    "        return num\n",
    "    if length_num % 2 ==0:\n",
    "        half_len=int(length_num/2)\n",
    "        lower_half=str_num[0:half_len]\n",
    "        upper_half=str_num[(half_len):]\n",
    "    else:\n",
    "        half_len=length_num/2\n",
    "        lower_half=str_num[0:math.floor(half_len)]\n",
    "        upper_half=str_num[math.ceil(half_len):]\n",
    "   \n",
    "    return (lower_half,upper_half)\n"
   ]
  },
  {
   "cell_type": "code",
   "execution_count": null,
   "metadata": {},
   "outputs": [],
   "source": [
    "print(split_number(1))"
   ]
  },
  {
   "cell_type": "code",
   "execution_count": null,
   "metadata": {},
   "outputs": [],
   "source": [
    "def karatsuba_mult(mul_1,mul_2):\n",
    "    num_1_str=str(mul_1)\n",
    "    num_2_str=str(mul_2)\n",
    "    max_length=max(len(num_1_str),len(num_2_str))\n",
    "    if max_length:      #one digit multilication \n",
    "        return mul_2*mul_1\n",
    "    else:\n",
    "        (lower_mul_1,upper_mul_2)=split_number(mul_1)\n",
    "        (lower_mul_2,upper_mul_2)=split_number(mul_2)\n",
    "        lower_product= karatsuba_mult(lower_mul_1,lower_mul_2)\n",
    "        upper_product= karatsuba_mult(upper_mul_1,upper_mul_2)\n",
    "        sum_product= karatsuba_mult(upper_mul_1+upper_mul_2,upper_mul_2+upper_mul_3)\n",
    "\n",
    "        return upper_product*10**max_length + (sum_product - upper_product - lower_product)*10**(max_length/2) + lower_product\n",
    "    \n",
    "\n",
    "\n",
    "\n",
    "    "
   ]
  },
  {
   "cell_type": "code",
   "execution_count": null,
   "metadata": {},
   "outputs": [],
   "source": [
    "n1=3141592653589793238462643383279502884197169399375105820974944592\n",
    "n2=2718281828459045235360287471352662497757247093699959574966967627\n",
    "\n",
    "print(karatsuba_mult(n1,n2))\n",
    "print(n1*n2)"
   ]
  },
  {
   "source": [
    "# MASTERS METHOD\n",
    "\n",
    "\n",
    "\n"
   ],
   "cell_type": "markdown",
   "metadata": {}
  },
  {
   "source": [
    "$$\n",
    "  \n",
    "$$"
   ],
   "cell_type": "markdown",
   "metadata": {}
  },
  {
   "source": [
    " $$\n",
    "%Region\n",
    "T(n) \\le aT(\\frac{n}{b})+O(n^d)\n",
    "%endregion\n",
    "$$"
   ],
   "cell_type": "markdown",
   "metadata": {}
  },
  {
   "source": [
    "## Parameters: \n",
    "### a= number of recursion calls \n",
    "### b=imput shrinkage factor\n",
    "### d=exponed in running time of the combine step"
   ],
   "cell_type": "markdown",
   "metadata": {}
  },
  {
   "source": [
    "$$\n",
    "T(n)= \\begin{cases}\n",
    "\t\t\tO(n^d log(n)), & \\text{if $a=b^d$}\\\\\n",
    "            O(n^d), & \\text{if $a < b^d $}\\\\\n",
    "\t\t\tO(n^{log_b a}), & \\text{if $a>b^d$}\n",
    "\t\t \\end{cases}\n",
    "        \n",
    "$$"
   ],
   "cell_type": "markdown",
   "metadata": {}
  },
  {
   "source": [
    "# Number of inversions "
   ],
   "cell_type": "markdown",
   "metadata": {}
  },
  {
   "cell_type": "code",
   "execution_count": null,
   "metadata": {},
   "outputs": [],
   "source": [
    "def brute_force_counting(list_of_numbers):\n",
    "    num_inv=0\n",
    "    len_list=len(list_of_numbers)\n",
    "    for index_1 in range(len_list): \n",
    "        for index_2 in range(index_1+1,len_list): \n",
    "            if list_of_numbers[index_1] > list_of_numbers[index_2]: \n",
    "                num_inv+=1\n",
    "    return num_inv"
   ]
  },
  {
   "cell_type": "code",
   "execution_count": null,
   "metadata": {},
   "outputs": [],
   "source": [
    "short_list_of_numbers=[1,3,5,2,4,6]\n",
    "print(brute_force_counting(short_list_of_numbers))"
   ]
  },
  {
   "source": [
    "## Divide and conquer aproach"
   ],
   "cell_type": "markdown",
   "metadata": {}
  },
  {
   "source": [
    "### Direct aproach"
   ],
   "cell_type": "markdown",
   "metadata": {}
  },
  {
   "cell_type": "code",
   "execution_count": null,
   "metadata": {},
   "outputs": [],
   "source": [
    "#incomplete psdocode\n",
    "def count_inv(list_numbers):\n",
    "    list_len= len(list_numbers)\n",
    "    if list_len<2 : \n",
    "        return 0\n",
    "    else: \n",
    "        left_inv= count_inv(list_numbers[0:math.floor(list_len/2)])\n",
    "        right_inv= count_inv(list_numbers[math.ceil(list_len/2):])\n",
    "        split_inv=  count_split(list_numbers)\n",
    "        return left_inv + right_inv +split_inv\n",
    "#we can use the merge-sort algoritm to implement the complete solution \n"
   ]
  },
  {
   "source": [
    "### we can use the merge-sort algoritm to implement the complete solution "
   ],
   "cell_type": "markdown",
   "metadata": {}
  },
  {
   "cell_type": "code",
   "execution_count": null,
   "metadata": {},
   "outputs": [],
   "source": [
    "def sort_count_inv(numbers_list):\n",
    "    list_len=len(numbers_list)\n",
    "    if (list_len == 1 or list_len == 0) : \n",
    "        return numbers_list,0\n",
    "    else: \n",
    "        (left_ordered,left_inv_count)= sort_count_inv(numbers_list[0:math.floor(list_len/2)])\n",
    "        (right_ordered,right_inv_count)= sort_count_inv(numbers_list[math.floor(list_len/2):])\n",
    "        (list_merged,split_inv_count)= merge_split_count(left_ordered,right_ordered)\n",
    "        return list_merged,(left_inv_count + right_inv_count + split_inv_count)"
   ]
  },
  {
   "cell_type": "code",
   "execution_count": null,
   "metadata": {},
   "outputs": [],
   "source": [
    "def merge_split_count(left,right):\n",
    "    left_count=0\n",
    "    right_count=0\n",
    "    inv_count=0\n",
    "    merge_count=0 \n",
    "    merge_result=list()\n",
    "\n",
    "    left_list=list(left)\n",
    "    right_list=list(right)\n",
    "    total_len= len(left_list) + len(right_list)\n",
    "    while left_count < len(left_list) and right_count < len(right_list): \n",
    "        if left_list[left_count]<right_list[right_count]:\n",
    "            merge_result.append(left_list[left_count])\n",
    "            left_count+=1\n",
    "        else: \n",
    "            merge_result.append(right_list[right_count])\n",
    "            right_count+=1\n",
    "            inv_count+=len(left_list)-left_count\n",
    "    while left_count < len(left_list) : \n",
    "        merge_result.append(left_list[left_count])\n",
    "        left_count+=1\n",
    "    while right_count < len(right_list):\n",
    "         merge_result.append(right_list[right_count])\n",
    "         right_count+=1\n",
    "         \n",
    "\n",
    "    return merge_result,inv_count\n"
   ]
  },
  {
   "cell_type": "code",
   "execution_count": null,
   "metadata": {},
   "outputs": [],
   "source": [
    "print(short_list_of_numbers)"
   ]
  },
  {
   "cell_type": "code",
   "execution_count": null,
   "metadata": {},
   "outputs": [],
   "source": [
    "print(\"Result=\",sort_count_inv(short_list_of_numbers))"
   ]
  },
  {
   "cell_type": "code",
   "execution_count": null,
   "metadata": {},
   "outputs": [],
   "source": [
    "int(4/2-1)"
   ]
  },
  {
   "cell_type": "code",
   "execution_count": null,
   "metadata": {},
   "outputs": [],
   "source": [
    "short_list_of_numbers[0:3]"
   ]
  },
  {
   "cell_type": "code",
   "execution_count": null,
   "metadata": {},
   "outputs": [],
   "source": [
    "short_list_of_numbers[3:]"
   ]
  },
  {
   "cell_type": "code",
   "execution_count": null,
   "metadata": {},
   "outputs": [],
   "source": [
    "txt_file=open(\"numberstxt\",\"r\")\n",
    "txt_content=txt_file.read()\n",
    "txt_file.close()\n",
    "numbers_list= txt_content.split(\"\\n\")"
   ]
  },
  {
   "source": [
    "## Running Time\n",
    "### Brute force method"
   ],
   "cell_type": "markdown",
   "metadata": {}
  },
  {
   "cell_type": "code",
   "execution_count": null,
   "metadata": {},
   "outputs": [],
   "source": [
    "t1=time.perf_counter_ns()\n",
    "result=brute_force_counting(numbers_list)\n",
    "running_time=time.perf_counter_ns() -t1\n",
    "print(\"Result=\",result)\n",
    "print(\"Running time in ns \",running_time)"
   ]
  },
  {
   "source": [
    "### Merge Sort Counting"
   ],
   "cell_type": "markdown",
   "metadata": {}
  },
  {
   "cell_type": "code",
   "execution_count": null,
   "metadata": {},
   "outputs": [],
   "source": [
    "t1=time.perf_counter_ns()\n",
    "(sort_list,inv_count)=sort_count_inv(numbers_list)\n",
    "running_time=time.perf_counter_ns() -t1\n",
    "print(\"Result=\",inv_count)\n",
    "print(\"Running time in ns \",running_time)"
   ]
  },
  {
   "source": [
    "# QUICK SORT"
   ],
   "cell_type": "markdown",
   "metadata": {}
  },
  {
   "source": [
    "### Your task is to compute the total number of comparisons used to sort the given input file by QuickSort.  As you know, the number of comparisons depends on which elements  are chosen as pivots, so we'll ask you to explore three different pivoting rules."
   ],
   "cell_type": "markdown",
   "metadata": {}
  },
  {
   "source": [
    "## Selecting always the first elemnt"
   ],
   "cell_type": "markdown",
   "metadata": {}
  },
  {
   "cell_type": "code",
   "execution_count": 21,
   "metadata": {},
   "outputs": [],
   "source": [
    "def partition(start,end, array,comparation):\n",
    "    pivot=array[start]    \n",
    "    i=start+1\n",
    "    m=end-start\n",
    "    comparation.n=comparation.n+m\n",
    "    for j in range(i,len(array)): \n",
    "        if array[j]< pivot :\n",
    "            array[i],array[j] = array[j],array[i]\n",
    "            i=i+1\n",
    "            \n",
    "    array[start],array[i-1]=array[i-1],array[start]\n",
    "    return i-1\n",
    "             "
   ]
  },
  {
   "cell_type": "code",
   "execution_count": 22,
   "metadata": {},
   "outputs": [],
   "source": [
    "def quick_sort_first(start,end,array,comp): \n",
    "    if len(array) == 1:\n",
    "        return \n",
    "    if start < end: \n",
    "        pivot_pos=start\n",
    "        #array[start],array[pivot_pos])=(array[pivot_pos],array[start])\n",
    "        partition_index=partition(start,end,array,comp)\n",
    "        quick_sort_first(start,partition_index-1,array,comp)\n",
    "        quick_sort_first(partition_index+1,end,array,comp)\n",
    "    "
   ]
  },
  {
   "cell_type": "code",
   "execution_count": 23,
   "metadata": {},
   "outputs": [],
   "source": [
    "test=[3,2,8,5,1,4,7,6]\n",
    "class comp:\n",
    "    n=0"
   ]
  },
  {
   "cell_type": "code",
   "execution_count": 24,
   "metadata": {
    "tags": []
   },
   "outputs": [],
   "source": [
    "quick_sort_first(0,len(test)-1,test,comp)"
   ]
  },
  {
   "cell_type": "code",
   "execution_count": 25,
   "metadata": {},
   "outputs": [
    {
     "output_type": "stream",
     "name": "stdout",
     "text": [
      "<built-in function sorted>\n"
     ]
    }
   ],
   "source": [
    "print(sorted)"
   ]
  },
  {
   "cell_type": "code",
   "execution_count": 26,
   "metadata": {},
   "outputs": [
    {
     "output_type": "stream",
     "name": "stdout",
     "text": [
      "[1, 2, 3, 4, 5, 6, 7, 8]\n"
     ]
    }
   ],
   "source": [
    "print(test)"
   ]
  },
  {
   "cell_type": "code",
   "execution_count": 27,
   "metadata": {},
   "outputs": [
    {
     "output_type": "stream",
     "name": "stdout",
     "text": [
      "15\n"
     ]
    }
   ],
   "source": [
    "print(comp.n)"
   ]
  },
  {
   "cell_type": "code",
   "execution_count": 28,
   "metadata": {},
   "outputs": [],
   "source": [
    "txt_file=open(\"quicksort.txt\")\n",
    "txt_content=txt_file.read()\n",
    "txt_file.close()\n",
    "quick_sort_list=txt_content.split(\"\\n\")\n",
    "quick_sort_list_unsorted=quick_sort_list.copy()"
   ]
  },
  {
   "cell_type": "code",
   "execution_count": 29,
   "metadata": {},
   "outputs": [],
   "source": [
    "class comp:\n",
    "    n=0"
   ]
  },
  {
   "cell_type": "code",
   "execution_count": 30,
   "metadata": {},
   "outputs": [],
   "source": [
    "quick_sort_first(0,len(quick_sort_list)-1,quick_sort_list,comp)"
   ]
  },
  {
   "cell_type": "code",
   "execution_count": 31,
   "metadata": {},
   "outputs": [
    {
     "output_type": "stream",
     "name": "stdout",
     "text": [
      "153461\n"
     ]
    }
   ],
   "source": [
    "print(comp.n)"
   ]
  },
  {
   "source": [
    "## Chosing the last element"
   ],
   "cell_type": "markdown",
   "metadata": {}
  },
  {
   "cell_type": "code",
   "execution_count": 32,
   "metadata": {},
   "outputs": [],
   "source": [
    "def quick_sort_last(start,end,array,comp): \n",
    "    if len(array) == 1:\n",
    "        return \n",
    "    if start < end: \n",
    "        pivot_pos=end\n",
    "        (array[start],array[pivot_pos])=(array[pivot_pos],array[start])\n",
    "        partition_index=partition(start,end,array,comp)\n",
    "        quick_sort_last(start,partition_index-1,array,comp)\n",
    "        quick_sort_last(partition_index+1,end,array,comp)"
   ]
  },
  {
   "cell_type": "code",
   "execution_count": 33,
   "metadata": {},
   "outputs": [],
   "source": [
    "comp.n=0\n",
    "quick_sort_list=quick_sort_list_unsorted.copy()"
   ]
  },
  {
   "cell_type": "code",
   "execution_count": 34,
   "metadata": {},
   "outputs": [],
   "source": [
    "quick_sort_last(0,len(quick_sort_list)-1,quick_sort_list,comp)\n"
   ]
  },
  {
   "cell_type": "code",
   "execution_count": 35,
   "metadata": {},
   "outputs": [
    {
     "output_type": "stream",
     "name": "stdout",
     "text": [
      "162266\n"
     ]
    }
   ],
   "source": [
    "print(comp.n)"
   ]
  },
  {
   "cell_type": "code",
   "execution_count": 36,
   "metadata": {},
   "outputs": [
    {
     "output_type": "stream",
     "name": "stdout",
     "text": [
      "False\n"
     ]
    }
   ],
   "source": [
    "print(quick_sort_list== quick_sort_list_unsorted)"
   ]
  },
  {
   "source": [
    "## Median Pivot"
   ],
   "cell_type": "markdown",
   "metadata": {}
  },
  {
   "cell_type": "code",
   "execution_count": 53,
   "metadata": {},
   "outputs": [],
   "source": [
    "def swap(pos1,pos2,array):\n",
    "    (array[pos1],array[pos2])=(array[pos2],array[pos1])"
   ]
  },
  {
   "cell_type": "code",
   "execution_count": 62,
   "metadata": {},
   "outputs": [],
   "source": [
    "def median_of_three_pivot(start,end,array):\n",
    "    mid=math.floor((start+end)/2)\n",
    "    if (array[start]<array[mid] and array[mid]< array[end]):\n",
    "        swap(start,mid,array)\n",
    "        return\n",
    "    if (array[mid]<array[start] and array[start] < array[end]):\n",
    "        return\n",
    "    else:\n",
    "        swap(start,end,array)\n",
    "        return\n",
    "    \n",
    "    "
   ]
  },
  {
   "cell_type": "code",
   "execution_count": 63,
   "metadata": {},
   "outputs": [],
   "source": [
    "def quick_sort_median(start,end,array,comp): \n",
    "    if len(array) == 1:\n",
    "        return \n",
    "    if start < end: \n",
    "        median_of_three_pivot(start,end,array)\n",
    "        partition_index=partition(start,end,array,comp)\n",
    "        quick_sort_last(start,partition_index-1,array,comp)\n",
    "        quick_sort_last(partition_index+1,end,array,comp)"
   ]
  },
  {
   "cell_type": "code",
   "execution_count": 68,
   "metadata": {},
   "outputs": [],
   "source": [
    "test=[3,2,8,5,1,4,7,6]\n",
    "comp.n=0\n",
    "quick_sort_median(0,len(test)-1,test,comp)"
   ]
  },
  {
   "cell_type": "code",
   "execution_count": 69,
   "metadata": {},
   "outputs": [
    {
     "output_type": "stream",
     "name": "stdout",
     "text": [
      "[1, 2, 3, 4, 5, 6, 7, 8]\n"
     ]
    }
   ],
   "source": [
    "print(test)"
   ]
  },
  {
   "cell_type": "code",
   "execution_count": 70,
   "metadata": {},
   "outputs": [
    {
     "output_type": "stream",
     "name": "stdout",
     "text": [
      "16\n"
     ]
    }
   ],
   "source": [
    "print(comp.n)"
   ]
  },
  {
   "cell_type": "code",
   "execution_count": 71,
   "metadata": {},
   "outputs": [],
   "source": [
    "quick_sort_list=quick_sort_list_unsorted.copy()\n",
    "comp.n=0"
   ]
  },
  {
   "cell_type": "code",
   "execution_count": 72,
   "metadata": {},
   "outputs": [],
   "source": [
    "quick_sort_median(0,len(quick_sort_list)-1,quick_sort_list,comp)"
   ]
  },
  {
   "cell_type": "code",
   "execution_count": 73,
   "metadata": {},
   "outputs": [
    {
     "output_type": "stream",
     "name": "stdout",
     "text": [
      "161065\n"
     ]
    }
   ],
   "source": [
    "print(comp.n)"
   ]
  },
  {
   "cell_type": "code",
   "execution_count": 77,
   "metadata": {},
   "outputs": [
    {
     "output_type": "stream",
     "name": "stdout",
     "text": [
      "[5, 2, 8, 3, 1, 4, 7, 6]\n"
     ]
    }
   ],
   "source": [
    "test=[5,2,8,3,1,4,7,6]\n",
    "median_of_three_pivot(0,len(test)-1,test)\n",
    "print(test)"
   ]
  },
  {
   "cell_type": "code",
   "execution_count": null,
   "metadata": {},
   "outputs": [],
   "source": []
  }
 ]
}